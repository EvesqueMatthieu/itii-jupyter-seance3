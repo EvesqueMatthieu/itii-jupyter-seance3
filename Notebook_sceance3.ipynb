{
 "cells": [
  {
   "cell_type": "code",
   "execution_count": 5,
   "metadata": {},
   "outputs": [],
   "source": [
    "import numpy as np\n",
    "\n",
    "def f(x):\n",
    "    return x**3+2*x-2\n",
    "\n",
    "def plot_f(function,interv=[0,1],step=1e-2):\n",
    "    \n",
    "    import matplotlib.pyplot as plt\n",
    "    import numpy as np \n",
    "    \n",
    "    x_list = np.arange(interv[0],interv[1] + step, step)\n",
    "    plt.plot(x_list, f(x_list),linewidth=3)\n",
    "    plt.xlim(interv)\n",
    "    plt.xlabel(\"x\",size=12)\n",
    "    plt.ylabel(f(x),size=12)\n",
    "    plt.hlines(0,inter[0],interv[1],linestyle='--',linewidth=1)\n",
    "    plt.show()\n"
   ]
  },
  {
   "cell_type": "code",
   "execution_count": null,
   "metadata": {},
   "outputs": [],
   "source": [
    "import numpy as np\n",
    "\n",
    "def S_n(n):\n",
    "    return n(n**2+1)/2\n",
    "\n",
    "def matrice(taille_matrice)\n",
    "    "
   ]
  },
  {
   "cell_type": "code",
   "execution_count": null,
   "metadata": {},
   "outputs": [],
   "source": []
  }
 ],
 "metadata": {
  "kernelspec": {
   "display_name": "Python 3",
   "language": "python",
   "name": "python3"
  },
  "language_info": {
   "codemirror_mode": {
    "name": "ipython",
    "version": 3
   },
   "file_extension": ".py",
   "mimetype": "text/x-python",
   "name": "python",
   "nbconvert_exporter": "python",
   "pygments_lexer": "ipython3",
   "version": "3.7.6"
  }
 },
 "nbformat": 4,
 "nbformat_minor": 4
}
